{
 "cells": [
  {
   "cell_type": "markdown",
   "metadata": {},
   "source": [
    "# Libs"
   ]
  },
  {
   "cell_type": "code",
   "execution_count": 1,
   "metadata": {
    "ExecuteTime": {
     "end_time": "2021-06-13T21:16:39.083322Z",
     "start_time": "2021-06-13T21:16:38.481986Z"
    }
   },
   "outputs": [],
   "source": [
    "import pandas as pd\n",
    "import numpy as np\n",
    "import requests\n",
    "from bs4 import BeautifulSoup as bs\n",
    "import ipywidgets as widgets\n",
    "from ipywidgets import fixed"
   ]
  },
  {
   "cell_type": "code",
   "execution_count": 2,
   "metadata": {
    "ExecuteTime": {
     "end_time": "2021-06-13T21:16:39.114564Z",
     "start_time": "2021-06-13T21:16:39.083322Z"
    }
   },
   "outputs": [],
   "source": [
    "%config IPCompleter.greedy=True\n",
    "import warnings\n",
    "warnings.filterwarnings('ignore')\n",
    "pd.set_option('display.max_columns', None)"
   ]
  },
  {
   "cell_type": "markdown",
   "metadata": {},
   "source": [
    "# Lista dos Fundos Imobiliarios"
   ]
  },
  {
   "cell_type": "code",
   "execution_count": 3,
   "metadata": {
    "ExecuteTime": {
     "end_time": "2021-06-13T21:16:40.632713Z",
     "start_time": "2021-06-13T21:16:39.446090Z"
    }
   },
   "outputs": [],
   "source": [
    "# o header abaixo serve para mascarar a requisição semelhante a um web browser\n",
    "header = {\"User-Agent\": \"Chrome/84.0.4147.89\",\"X-Requested-With\": \"XMLHttpRequest\"}\n",
    "\n",
    "# URL com todos os FIIs listados\n",
    "url = 'https://fundamentus.com.br/fii_resultado.php'\n",
    "\n",
    "# Requests via HTTP\n",
    "r = requests.get(url, headers = header)\n",
    "\n",
    "# Leitura do HTML entregue\n",
    "fii = pd.read_html(r.text,decimal=',',thousands='.')[0]\n"
   ]
  },
  {
   "cell_type": "code",
   "execution_count": 4,
   "metadata": {
    "ExecuteTime": {
     "end_time": "2021-06-13T21:29:20.518817Z",
     "start_time": "2021-06-13T21:29:20.487575Z"
    }
   },
   "outputs": [
    {
     "ename": "ValueError",
     "evalue": "could not convert string to float: '1.397.74'",
     "output_type": "error",
     "traceback": [
      "\u001b[1;31m---------------------------------------------------------------------------\u001b[0m",
      "\u001b[1;31mValueError\u001b[0m                                Traceback (most recent call last)",
      "\u001b[1;32m~\\AppData\\Local\\Temp/ipykernel_20056/1152324493.py\u001b[0m in \u001b[0;36m<module>\u001b[1;34m\u001b[0m\n\u001b[0;32m      3\u001b[0m \u001b[1;33m\u001b[0m\u001b[0m\n\u001b[0;32m      4\u001b[0m \u001b[1;31m# Dividend Yield vem como string. É necessário remover '%' e trocar ',' por '.'\u001b[0m\u001b[1;33m\u001b[0m\u001b[1;33m\u001b[0m\u001b[0m\n\u001b[1;32m----> 5\u001b[1;33m \u001b[0mfundos\u001b[0m\u001b[1;33m[\u001b[0m\u001b[1;34m'Dividend yield 2'\u001b[0m\u001b[1;33m]\u001b[0m\u001b[1;33m=\u001b[0m \u001b[0mfundos\u001b[0m\u001b[1;33m[\u001b[0m\u001b[1;34m'Dividend Yield'\u001b[0m\u001b[1;33m]\u001b[0m\u001b[1;33m.\u001b[0m\u001b[0mstr\u001b[0m\u001b[1;33m.\u001b[0m\u001b[0mreplace\u001b[0m\u001b[1;33m(\u001b[0m\u001b[1;34m'%'\u001b[0m\u001b[1;33m,\u001b[0m\u001b[1;34m''\u001b[0m\u001b[1;33m)\u001b[0m\u001b[1;33m.\u001b[0m\u001b[0mstr\u001b[0m\u001b[1;33m.\u001b[0m\u001b[0mreplace\u001b[0m\u001b[1;33m(\u001b[0m\u001b[1;34m','\u001b[0m\u001b[1;33m,\u001b[0m\u001b[1;34m'.'\u001b[0m\u001b[1;33m)\u001b[0m\u001b[1;33m.\u001b[0m\u001b[0mastype\u001b[0m\u001b[1;33m(\u001b[0m\u001b[0mfloat\u001b[0m\u001b[1;33m)\u001b[0m\u001b[1;33m\u001b[0m\u001b[1;33m\u001b[0m\u001b[0m\n\u001b[0m\u001b[0;32m      6\u001b[0m \u001b[0mfundos\u001b[0m\u001b[1;33m[\u001b[0m\u001b[1;34m'Dividendo/cota'\u001b[0m\u001b[1;33m]\u001b[0m \u001b[1;33m=\u001b[0m \u001b[0mfundos\u001b[0m\u001b[1;33m[\u001b[0m\u001b[1;34m'Cotação'\u001b[0m\u001b[1;33m]\u001b[0m\u001b[1;33m*\u001b[0m\u001b[0mfundos\u001b[0m\u001b[1;33m[\u001b[0m\u001b[1;34m'Dividend yield 2'\u001b[0m\u001b[1;33m]\u001b[0m\u001b[1;33m/\u001b[0m\u001b[1;36m100\u001b[0m\u001b[1;33m\u001b[0m\u001b[1;33m\u001b[0m\u001b[0m\n\u001b[0;32m      7\u001b[0m \u001b[1;33m\u001b[0m\u001b[0m\n",
      "\u001b[1;32m~\\AppData\\Local\\Packages\\PythonSoftwareFoundation.Python.3.9_qbz5n2kfra8p0\\LocalCache\\local-packages\\Python39\\site-packages\\pandas\\core\\generic.py\u001b[0m in \u001b[0;36mastype\u001b[1;34m(self, dtype, copy, errors)\u001b[0m\n\u001b[0;32m   5813\u001b[0m         \u001b[1;32melse\u001b[0m\u001b[1;33m:\u001b[0m\u001b[1;33m\u001b[0m\u001b[1;33m\u001b[0m\u001b[0m\n\u001b[0;32m   5814\u001b[0m             \u001b[1;31m# else, only a single dtype is given\u001b[0m\u001b[1;33m\u001b[0m\u001b[1;33m\u001b[0m\u001b[0m\n\u001b[1;32m-> 5815\u001b[1;33m             \u001b[0mnew_data\u001b[0m \u001b[1;33m=\u001b[0m \u001b[0mself\u001b[0m\u001b[1;33m.\u001b[0m\u001b[0m_mgr\u001b[0m\u001b[1;33m.\u001b[0m\u001b[0mastype\u001b[0m\u001b[1;33m(\u001b[0m\u001b[0mdtype\u001b[0m\u001b[1;33m=\u001b[0m\u001b[0mdtype\u001b[0m\u001b[1;33m,\u001b[0m \u001b[0mcopy\u001b[0m\u001b[1;33m=\u001b[0m\u001b[0mcopy\u001b[0m\u001b[1;33m,\u001b[0m \u001b[0merrors\u001b[0m\u001b[1;33m=\u001b[0m\u001b[0merrors\u001b[0m\u001b[1;33m)\u001b[0m\u001b[1;33m\u001b[0m\u001b[1;33m\u001b[0m\u001b[0m\n\u001b[0m\u001b[0;32m   5816\u001b[0m             \u001b[1;32mreturn\u001b[0m \u001b[0mself\u001b[0m\u001b[1;33m.\u001b[0m\u001b[0m_constructor\u001b[0m\u001b[1;33m(\u001b[0m\u001b[0mnew_data\u001b[0m\u001b[1;33m)\u001b[0m\u001b[1;33m.\u001b[0m\u001b[0m__finalize__\u001b[0m\u001b[1;33m(\u001b[0m\u001b[0mself\u001b[0m\u001b[1;33m,\u001b[0m \u001b[0mmethod\u001b[0m\u001b[1;33m=\u001b[0m\u001b[1;34m\"astype\"\u001b[0m\u001b[1;33m)\u001b[0m\u001b[1;33m\u001b[0m\u001b[1;33m\u001b[0m\u001b[0m\n\u001b[0;32m   5817\u001b[0m \u001b[1;33m\u001b[0m\u001b[0m\n",
      "\u001b[1;32m~\\AppData\\Local\\Packages\\PythonSoftwareFoundation.Python.3.9_qbz5n2kfra8p0\\LocalCache\\local-packages\\Python39\\site-packages\\pandas\\core\\internals\\managers.py\u001b[0m in \u001b[0;36mastype\u001b[1;34m(self, dtype, copy, errors)\u001b[0m\n\u001b[0;32m    416\u001b[0m \u001b[1;33m\u001b[0m\u001b[0m\n\u001b[0;32m    417\u001b[0m     \u001b[1;32mdef\u001b[0m \u001b[0mastype\u001b[0m\u001b[1;33m(\u001b[0m\u001b[0mself\u001b[0m\u001b[1;33m:\u001b[0m \u001b[0mT\u001b[0m\u001b[1;33m,\u001b[0m \u001b[0mdtype\u001b[0m\u001b[1;33m,\u001b[0m \u001b[0mcopy\u001b[0m\u001b[1;33m:\u001b[0m \u001b[0mbool\u001b[0m \u001b[1;33m=\u001b[0m \u001b[1;32mFalse\u001b[0m\u001b[1;33m,\u001b[0m \u001b[0merrors\u001b[0m\u001b[1;33m:\u001b[0m \u001b[0mstr\u001b[0m \u001b[1;33m=\u001b[0m \u001b[1;34m\"raise\"\u001b[0m\u001b[1;33m)\u001b[0m \u001b[1;33m->\u001b[0m \u001b[0mT\u001b[0m\u001b[1;33m:\u001b[0m\u001b[1;33m\u001b[0m\u001b[1;33m\u001b[0m\u001b[0m\n\u001b[1;32m--> 418\u001b[1;33m         \u001b[1;32mreturn\u001b[0m \u001b[0mself\u001b[0m\u001b[1;33m.\u001b[0m\u001b[0mapply\u001b[0m\u001b[1;33m(\u001b[0m\u001b[1;34m\"astype\"\u001b[0m\u001b[1;33m,\u001b[0m \u001b[0mdtype\u001b[0m\u001b[1;33m=\u001b[0m\u001b[0mdtype\u001b[0m\u001b[1;33m,\u001b[0m \u001b[0mcopy\u001b[0m\u001b[1;33m=\u001b[0m\u001b[0mcopy\u001b[0m\u001b[1;33m,\u001b[0m \u001b[0merrors\u001b[0m\u001b[1;33m=\u001b[0m\u001b[0merrors\u001b[0m\u001b[1;33m)\u001b[0m\u001b[1;33m\u001b[0m\u001b[1;33m\u001b[0m\u001b[0m\n\u001b[0m\u001b[0;32m    419\u001b[0m \u001b[1;33m\u001b[0m\u001b[0m\n\u001b[0;32m    420\u001b[0m     def convert(\n",
      "\u001b[1;32m~\\AppData\\Local\\Packages\\PythonSoftwareFoundation.Python.3.9_qbz5n2kfra8p0\\LocalCache\\local-packages\\Python39\\site-packages\\pandas\\core\\internals\\managers.py\u001b[0m in \u001b[0;36mapply\u001b[1;34m(self, f, align_keys, ignore_failures, **kwargs)\u001b[0m\n\u001b[0;32m    325\u001b[0m                     \u001b[0mapplied\u001b[0m \u001b[1;33m=\u001b[0m \u001b[0mb\u001b[0m\u001b[1;33m.\u001b[0m\u001b[0mapply\u001b[0m\u001b[1;33m(\u001b[0m\u001b[0mf\u001b[0m\u001b[1;33m,\u001b[0m \u001b[1;33m**\u001b[0m\u001b[0mkwargs\u001b[0m\u001b[1;33m)\u001b[0m\u001b[1;33m\u001b[0m\u001b[1;33m\u001b[0m\u001b[0m\n\u001b[0;32m    326\u001b[0m                 \u001b[1;32melse\u001b[0m\u001b[1;33m:\u001b[0m\u001b[1;33m\u001b[0m\u001b[1;33m\u001b[0m\u001b[0m\n\u001b[1;32m--> 327\u001b[1;33m                     \u001b[0mapplied\u001b[0m \u001b[1;33m=\u001b[0m \u001b[0mgetattr\u001b[0m\u001b[1;33m(\u001b[0m\u001b[0mb\u001b[0m\u001b[1;33m,\u001b[0m \u001b[0mf\u001b[0m\u001b[1;33m)\u001b[0m\u001b[1;33m(\u001b[0m\u001b[1;33m**\u001b[0m\u001b[0mkwargs\u001b[0m\u001b[1;33m)\u001b[0m\u001b[1;33m\u001b[0m\u001b[1;33m\u001b[0m\u001b[0m\n\u001b[0m\u001b[0;32m    328\u001b[0m             \u001b[1;32mexcept\u001b[0m \u001b[1;33m(\u001b[0m\u001b[0mTypeError\u001b[0m\u001b[1;33m,\u001b[0m \u001b[0mNotImplementedError\u001b[0m\u001b[1;33m)\u001b[0m\u001b[1;33m:\u001b[0m\u001b[1;33m\u001b[0m\u001b[1;33m\u001b[0m\u001b[0m\n\u001b[0;32m    329\u001b[0m                 \u001b[1;32mif\u001b[0m \u001b[1;32mnot\u001b[0m \u001b[0mignore_failures\u001b[0m\u001b[1;33m:\u001b[0m\u001b[1;33m\u001b[0m\u001b[1;33m\u001b[0m\u001b[0m\n",
      "\u001b[1;32m~\\AppData\\Local\\Packages\\PythonSoftwareFoundation.Python.3.9_qbz5n2kfra8p0\\LocalCache\\local-packages\\Python39\\site-packages\\pandas\\core\\internals\\blocks.py\u001b[0m in \u001b[0;36mastype\u001b[1;34m(self, dtype, copy, errors)\u001b[0m\n\u001b[0;32m    590\u001b[0m         \u001b[0mvalues\u001b[0m \u001b[1;33m=\u001b[0m \u001b[0mself\u001b[0m\u001b[1;33m.\u001b[0m\u001b[0mvalues\u001b[0m\u001b[1;33m\u001b[0m\u001b[1;33m\u001b[0m\u001b[0m\n\u001b[0;32m    591\u001b[0m \u001b[1;33m\u001b[0m\u001b[0m\n\u001b[1;32m--> 592\u001b[1;33m         \u001b[0mnew_values\u001b[0m \u001b[1;33m=\u001b[0m \u001b[0mastype_array_safe\u001b[0m\u001b[1;33m(\u001b[0m\u001b[0mvalues\u001b[0m\u001b[1;33m,\u001b[0m \u001b[0mdtype\u001b[0m\u001b[1;33m,\u001b[0m \u001b[0mcopy\u001b[0m\u001b[1;33m=\u001b[0m\u001b[0mcopy\u001b[0m\u001b[1;33m,\u001b[0m \u001b[0merrors\u001b[0m\u001b[1;33m=\u001b[0m\u001b[0merrors\u001b[0m\u001b[1;33m)\u001b[0m\u001b[1;33m\u001b[0m\u001b[1;33m\u001b[0m\u001b[0m\n\u001b[0m\u001b[0;32m    593\u001b[0m \u001b[1;33m\u001b[0m\u001b[0m\n\u001b[0;32m    594\u001b[0m         \u001b[0mnew_values\u001b[0m \u001b[1;33m=\u001b[0m \u001b[0mmaybe_coerce_values\u001b[0m\u001b[1;33m(\u001b[0m\u001b[0mnew_values\u001b[0m\u001b[1;33m)\u001b[0m\u001b[1;33m\u001b[0m\u001b[1;33m\u001b[0m\u001b[0m\n",
      "\u001b[1;32m~\\AppData\\Local\\Packages\\PythonSoftwareFoundation.Python.3.9_qbz5n2kfra8p0\\LocalCache\\local-packages\\Python39\\site-packages\\pandas\\core\\dtypes\\cast.py\u001b[0m in \u001b[0;36mastype_array_safe\u001b[1;34m(values, dtype, copy, errors)\u001b[0m\n\u001b[0;32m   1307\u001b[0m \u001b[1;33m\u001b[0m\u001b[0m\n\u001b[0;32m   1308\u001b[0m     \u001b[1;32mtry\u001b[0m\u001b[1;33m:\u001b[0m\u001b[1;33m\u001b[0m\u001b[1;33m\u001b[0m\u001b[0m\n\u001b[1;32m-> 1309\u001b[1;33m         \u001b[0mnew_values\u001b[0m \u001b[1;33m=\u001b[0m \u001b[0mastype_array\u001b[0m\u001b[1;33m(\u001b[0m\u001b[0mvalues\u001b[0m\u001b[1;33m,\u001b[0m \u001b[0mdtype\u001b[0m\u001b[1;33m,\u001b[0m \u001b[0mcopy\u001b[0m\u001b[1;33m=\u001b[0m\u001b[0mcopy\u001b[0m\u001b[1;33m)\u001b[0m\u001b[1;33m\u001b[0m\u001b[1;33m\u001b[0m\u001b[0m\n\u001b[0m\u001b[0;32m   1310\u001b[0m     \u001b[1;32mexcept\u001b[0m \u001b[1;33m(\u001b[0m\u001b[0mValueError\u001b[0m\u001b[1;33m,\u001b[0m \u001b[0mTypeError\u001b[0m\u001b[1;33m)\u001b[0m\u001b[1;33m:\u001b[0m\u001b[1;33m\u001b[0m\u001b[1;33m\u001b[0m\u001b[0m\n\u001b[0;32m   1311\u001b[0m         \u001b[1;31m# e.g. astype_nansafe can fail on object-dtype of strings\u001b[0m\u001b[1;33m\u001b[0m\u001b[1;33m\u001b[0m\u001b[0m\n",
      "\u001b[1;32m~\\AppData\\Local\\Packages\\PythonSoftwareFoundation.Python.3.9_qbz5n2kfra8p0\\LocalCache\\local-packages\\Python39\\site-packages\\pandas\\core\\dtypes\\cast.py\u001b[0m in \u001b[0;36mastype_array\u001b[1;34m(values, dtype, copy)\u001b[0m\n\u001b[0;32m   1255\u001b[0m \u001b[1;33m\u001b[0m\u001b[0m\n\u001b[0;32m   1256\u001b[0m     \u001b[1;32melse\u001b[0m\u001b[1;33m:\u001b[0m\u001b[1;33m\u001b[0m\u001b[1;33m\u001b[0m\u001b[0m\n\u001b[1;32m-> 1257\u001b[1;33m         \u001b[0mvalues\u001b[0m \u001b[1;33m=\u001b[0m \u001b[0mastype_nansafe\u001b[0m\u001b[1;33m(\u001b[0m\u001b[0mvalues\u001b[0m\u001b[1;33m,\u001b[0m \u001b[0mdtype\u001b[0m\u001b[1;33m,\u001b[0m \u001b[0mcopy\u001b[0m\u001b[1;33m=\u001b[0m\u001b[0mcopy\u001b[0m\u001b[1;33m)\u001b[0m\u001b[1;33m\u001b[0m\u001b[1;33m\u001b[0m\u001b[0m\n\u001b[0m\u001b[0;32m   1258\u001b[0m \u001b[1;33m\u001b[0m\u001b[0m\n\u001b[0;32m   1259\u001b[0m     \u001b[1;31m# in pandas we don't store numpy str dtypes, so convert to object\u001b[0m\u001b[1;33m\u001b[0m\u001b[1;33m\u001b[0m\u001b[0m\n",
      "\u001b[1;32m~\\AppData\\Local\\Packages\\PythonSoftwareFoundation.Python.3.9_qbz5n2kfra8p0\\LocalCache\\local-packages\\Python39\\site-packages\\pandas\\core\\dtypes\\cast.py\u001b[0m in \u001b[0;36mastype_nansafe\u001b[1;34m(arr, dtype, copy, skipna)\u001b[0m\n\u001b[0;32m   1199\u001b[0m     \u001b[1;32mif\u001b[0m \u001b[0mcopy\u001b[0m \u001b[1;32mor\u001b[0m \u001b[0mis_object_dtype\u001b[0m\u001b[1;33m(\u001b[0m\u001b[0marr\u001b[0m\u001b[1;33m.\u001b[0m\u001b[0mdtype\u001b[0m\u001b[1;33m)\u001b[0m \u001b[1;32mor\u001b[0m \u001b[0mis_object_dtype\u001b[0m\u001b[1;33m(\u001b[0m\u001b[0mdtype\u001b[0m\u001b[1;33m)\u001b[0m\u001b[1;33m:\u001b[0m\u001b[1;33m\u001b[0m\u001b[1;33m\u001b[0m\u001b[0m\n\u001b[0;32m   1200\u001b[0m         \u001b[1;31m# Explicit copy, or required since NumPy can't view from / to object.\u001b[0m\u001b[1;33m\u001b[0m\u001b[1;33m\u001b[0m\u001b[0m\n\u001b[1;32m-> 1201\u001b[1;33m         \u001b[1;32mreturn\u001b[0m \u001b[0marr\u001b[0m\u001b[1;33m.\u001b[0m\u001b[0mastype\u001b[0m\u001b[1;33m(\u001b[0m\u001b[0mdtype\u001b[0m\u001b[1;33m,\u001b[0m \u001b[0mcopy\u001b[0m\u001b[1;33m=\u001b[0m\u001b[1;32mTrue\u001b[0m\u001b[1;33m)\u001b[0m\u001b[1;33m\u001b[0m\u001b[1;33m\u001b[0m\u001b[0m\n\u001b[0m\u001b[0;32m   1202\u001b[0m \u001b[1;33m\u001b[0m\u001b[0m\n\u001b[0;32m   1203\u001b[0m     \u001b[1;32mreturn\u001b[0m \u001b[0marr\u001b[0m\u001b[1;33m.\u001b[0m\u001b[0mastype\u001b[0m\u001b[1;33m(\u001b[0m\u001b[0mdtype\u001b[0m\u001b[1;33m,\u001b[0m \u001b[0mcopy\u001b[0m\u001b[1;33m=\u001b[0m\u001b[0mcopy\u001b[0m\u001b[1;33m)\u001b[0m\u001b[1;33m\u001b[0m\u001b[1;33m\u001b[0m\u001b[0m\n",
      "\u001b[1;31mValueError\u001b[0m: could not convert string to float: '1.397.74'"
     ]
    }
   ],
   "source": [
    "# o índice [0] contem toda a tabela dos fundos\n",
    "fundos = fii.copy()\n",
    "\n",
    "# Dividend Yield vem como string. É necessário remover '%' e trocar ',' por '.'\n",
    "fundos['Dividend yield 2']= fundos['Dividend Yield'].str.replace('%','').str.replace(',','.').astype(float)\n",
    "fundos['Dividendo/cota'] = fundos['Cotação']*fundos['Dividend yield 2']/100\n",
    "\n",
    "fundos.loc[fundos['Segmento'].isna(), 'Segmento'] = 'Outros'\n",
    "\n",
    "fundos"
   ]
  },
  {
   "cell_type": "markdown",
   "metadata": {},
   "source": [
    "# Obtendo o IPCA"
   ]
  },
  {
   "cell_type": "code",
   "execution_count": 9,
   "metadata": {
    "ExecuteTime": {
     "end_time": "2021-06-13T21:29:22.255622Z",
     "start_time": "2021-06-13T21:29:21.476040Z"
    }
   },
   "outputs": [
    {
     "data": {
      "text/plain": [
       "10.38"
      ]
     },
     "execution_count": 9,
     "metadata": {},
     "output_type": "execute_result"
    }
   ],
   "source": [
    "# OBTER IPCA acumulado 12 MESES\n",
    "\n",
    "r = requests.get('https://www.melhorcambio.com/ipca',headers = header,verify=False)\n",
    "\n",
    "# web scrapying para \"quebrar o conteúdo do html\"\n",
    "soup = bs(r.content,'html.parser')\n",
    "\n",
    "ipca = soup.find_all('input',{'id':'inp_calc_3'})\n",
    "\n",
    "ipca = float(ipca[0]['value'].replace(',','.'))\n",
    "ipca"
   ]
  },
  {
   "cell_type": "markdown",
   "metadata": {},
   "source": [
    "# Obtendo o SPREAD do IPCA\n",
    "\n",
    "- o \"*spread*\" é a diferença que o título mais longo do Tesouro está pagando de diferencial em relação ao IPCA\n",
    "- Exemplo: IPCA+2050 = IPCA + 5% -> os 5% é o spread do titulo"
   ]
  },
  {
   "cell_type": "code",
   "execution_count": 10,
   "metadata": {
    "ExecuteTime": {
     "end_time": "2021-06-13T21:29:22.277252Z",
     "start_time": "2021-06-13T21:29:22.255622Z"
    }
   },
   "outputs": [],
   "source": [
    "import ssl\n",
    "ssl._create_default_https_context = ssl._create_unverified_context"
   ]
  },
  {
   "cell_type": "code",
   "execution_count": 11,
   "metadata": {
    "ExecuteTime": {
     "end_time": "2021-06-13T21:29:22.447641Z",
     "start_time": "2021-06-13T21:29:22.277252Z"
    }
   },
   "outputs": [],
   "source": [
    "# função que faz o crawling dos dados do site do Banco Central\n",
    "\n",
    "def busca_titulos_tesouro_direto():\n",
    "    url = 'https://www.tesourotransparente.gov.br/ckan/dataset/df56aa42-484a-4a59-8184-7676580c81e3/resource/796d2059-14e9-44e3-80c9-2d9e30b405c1/download/PrecoTaxaTesouroDireto.csv'\n",
    "    df  = pd.read_csv(url, sep=';', decimal=',')\n",
    "    df['Data Vencimento'] = pd.to_datetime(df['Data Vencimento'], dayfirst=True)\n",
    "    df['Data Base']       = pd.to_datetime(df['Data Base'], dayfirst=True)\n",
    "    return df"
   ]
  },
  {
   "cell_type": "code",
   "execution_count": 12,
   "metadata": {
    "ExecuteTime": {
     "end_time": "2021-06-13T21:29:28.377723Z",
     "start_time": "2021-06-13T21:29:22.447641Z"
    }
   },
   "outputs": [],
   "source": [
    "# Transformar o título em dataframe\n",
    "\n",
    "titulos = busca_titulos_tesouro_direto()\n",
    "titulos.sort_index(inplace=True)"
   ]
  },
  {
   "cell_type": "code",
   "execution_count": 13,
   "metadata": {
    "ExecuteTime": {
     "end_time": "2021-06-13T21:29:28.406031Z",
     "start_time": "2021-06-13T21:29:28.379235Z"
    }
   },
   "outputs": [],
   "source": [
    "# Obter o IPCA+ longo\n",
    "\n",
    "vencimento = titulos.loc[(titulos['Tipo Titulo'] == 'Tesouro IPCA+'),'Data Vencimento'].max()\n",
    "ipca_longo = titulos.loc[(titulos['Tipo Titulo'] == 'Tesouro IPCA+') & (titulos['Data Vencimento'] == vencimento)]"
   ]
  },
  {
   "cell_type": "code",
   "execution_count": 14,
   "metadata": {
    "ExecuteTime": {
     "end_time": "2021-06-13T21:29:28.615953Z",
     "start_time": "2021-06-13T21:29:28.406031Z"
    }
   },
   "outputs": [
    {
     "data": {
      "text/plain": [
       "5.52"
      ]
     },
     "execution_count": 14,
     "metadata": {},
     "output_type": "execute_result"
    }
   ],
   "source": [
    "# Obter o spread que o título mais longo está pagando \n",
    "\n",
    "ipca_longo.sort_values('Data Base',ascending = False, inplace = True)\n",
    "spread_ntnb = ipca_longo.iloc[0,3]\n",
    "spread_ntnb"
   ]
  },
  {
   "cell_type": "markdown",
   "metadata": {
    "ExecuteTime": {
     "end_time": "2021-05-22T23:52:29.075670Z",
     "start_time": "2021-05-22T23:52:29.060157Z"
    }
   },
   "source": [
    "# Modelo de Gordon"
   ]
  },
  {
   "cell_type": "markdown",
   "metadata": {
    "ExecuteTime": {
     "end_time": "2021-04-10T22:56:02.749418Z",
     "start_time": "2021-04-10T22:56:02.696009Z"
    }
   },
   "source": [
    "Modelo de Gordon = $( Dividendo ) / Wacc $\n",
    "\n",
    "$ Wacc = Spread.NTNB + IPCA + Spread.Mercado$\n",
    "\n",
    "- **Tijolo** -> `IPCA = 0` pois a inflação já é reposta pelo patrimônio e reajuste dos contratos\n",
    "- **CRI** -> `IPCA <> 0` (retorno é nominal)"
   ]
  },
  {
   "cell_type": "markdown",
   "metadata": {},
   "source": [
    "- `Spread NTN-B`: spread do título IPCA mais longo\n",
    "- `IPCA`: indice acumulado dos ultimos 12 meses\n",
    "- `Spread Mercado`: quanto o mercado está precificando acima do tesouro mais longo (geralmente fica em torno de 2% acima)\n",
    "    \n",
    "- Iremos usar o `WIDGETS` do Python para simular o `SPREAD_MERCADO`"
   ]
  },
  {
   "cell_type": "code",
   "execution_count": 15,
   "metadata": {
    "ExecuteTime": {
     "end_time": "2021-06-13T21:29:28.700759Z",
     "start_time": "2021-06-13T21:29:28.615953Z"
    }
   },
   "outputs": [
    {
     "ename": "NameError",
     "evalue": "name 'fundos' is not defined",
     "output_type": "error",
     "traceback": [
      "\u001b[1;31m---------------------------------------------------------------------------\u001b[0m",
      "\u001b[1;31mNameError\u001b[0m                                 Traceback (most recent call last)",
      "\u001b[1;32m~\\AppData\\Local\\Temp/ipykernel_19924/3266620698.py\u001b[0m in \u001b[0;36m<module>\u001b[1;34m\u001b[0m\n\u001b[0;32m      1\u001b[0m \u001b[1;31m# Criar 2 colunas com os dados já obtidos\u001b[0m\u001b[1;33m\u001b[0m\u001b[1;33m\u001b[0m\u001b[0m\n\u001b[0;32m      2\u001b[0m \u001b[1;33m\u001b[0m\u001b[0m\n\u001b[1;32m----> 3\u001b[1;33m \u001b[0mfundos\u001b[0m\u001b[1;33m[\u001b[0m\u001b[1;34m'NTN-B'\u001b[0m\u001b[1;33m]\u001b[0m \u001b[1;33m=\u001b[0m \u001b[0mspread_ntnb\u001b[0m\u001b[1;33m\u001b[0m\u001b[1;33m\u001b[0m\u001b[0m\n\u001b[0m\u001b[0;32m      4\u001b[0m \u001b[0mfundos\u001b[0m\u001b[1;33m[\u001b[0m\u001b[1;34m'IPCA'\u001b[0m\u001b[1;33m]\u001b[0m \u001b[1;33m=\u001b[0m \u001b[0mipca\u001b[0m\u001b[1;33m\u001b[0m\u001b[1;33m\u001b[0m\u001b[0m\n",
      "\u001b[1;31mNameError\u001b[0m: name 'fundos' is not defined"
     ]
    }
   ],
   "source": [
    "# Criar 2 colunas com os dados já obtidos\n",
    "\n",
    "fundos['NTN-B'] = spread_ntnb\n",
    "fundos['IPCA'] = ipca"
   ]
  },
  {
   "cell_type": "code",
   "execution_count": 33,
   "metadata": {
    "ExecuteTime": {
     "end_time": "2021-06-13T21:29:28.816150Z",
     "start_time": "2021-06-13T21:29:28.700759Z"
    }
   },
   "outputs": [
    {
     "data": {
      "text/html": [
       "<div>\n",
       "<style scoped>\n",
       "    .dataframe tbody tr th:only-of-type {\n",
       "        vertical-align: middle;\n",
       "    }\n",
       "\n",
       "    .dataframe tbody tr th {\n",
       "        vertical-align: top;\n",
       "    }\n",
       "\n",
       "    .dataframe thead th {\n",
       "        text-align: right;\n",
       "    }\n",
       "</style>\n",
       "<table border=\"1\" class=\"dataframe\">\n",
       "  <thead>\n",
       "    <tr style=\"text-align: right;\">\n",
       "      <th></th>\n",
       "      <th>Papel</th>\n",
       "      <th>Segmento</th>\n",
       "      <th>Cotação</th>\n",
       "      <th>FFO Yield</th>\n",
       "      <th>Dividend Yield</th>\n",
       "      <th>P/VP</th>\n",
       "      <th>Valor de Mercado</th>\n",
       "      <th>Liquidez</th>\n",
       "      <th>Qtd de imóveis</th>\n",
       "      <th>Preço do m2</th>\n",
       "      <th>Aluguel por m2</th>\n",
       "      <th>Cap Rate</th>\n",
       "      <th>Vacância Média</th>\n",
       "      <th>Dividend yield 2</th>\n",
       "      <th>Dividendo/cota</th>\n",
       "      <th>NTN-B</th>\n",
       "      <th>IPCA</th>\n",
       "    </tr>\n",
       "  </thead>\n",
       "  <tbody>\n",
       "    <tr>\n",
       "      <th>4</th>\n",
       "      <td>AFOF11</td>\n",
       "      <td>Títulos e Val. Mob.</td>\n",
       "      <td>182.16</td>\n",
       "      <td>2,20%</td>\n",
       "      <td>0,00%</td>\n",
       "      <td>1.69</td>\n",
       "      <td>66875300</td>\n",
       "      <td>6731</td>\n",
       "      <td>0</td>\n",
       "      <td>0.00</td>\n",
       "      <td>0.00</td>\n",
       "      <td>0,00%</td>\n",
       "      <td>0,00%</td>\n",
       "      <td>0.00</td>\n",
       "      <td>0.000000</td>\n",
       "      <td>4.08</td>\n",
       "      <td>8.06</td>\n",
       "    </tr>\n",
       "    <tr>\n",
       "      <th>19</th>\n",
       "      <td>BCFF11</td>\n",
       "      <td>Títulos e Val. Mob.</td>\n",
       "      <td>85.38</td>\n",
       "      <td>2,93%</td>\n",
       "      <td>4,16%</td>\n",
       "      <td>1.01</td>\n",
       "      <td>2153160000</td>\n",
       "      <td>4354060</td>\n",
       "      <td>0</td>\n",
       "      <td>0.00</td>\n",
       "      <td>0.00</td>\n",
       "      <td>0,00%</td>\n",
       "      <td>0,00%</td>\n",
       "      <td>4.16</td>\n",
       "      <td>3.551808</td>\n",
       "      <td>4.08</td>\n",
       "      <td>8.06</td>\n",
       "    </tr>\n",
       "    <tr>\n",
       "      <th>29</th>\n",
       "      <td>BPFF11</td>\n",
       "      <td>Outros</td>\n",
       "      <td>79.98</td>\n",
       "      <td>5,03%</td>\n",
       "      <td>5,04%</td>\n",
       "      <td>0.95</td>\n",
       "      <td>359296000</td>\n",
       "      <td>1055790</td>\n",
       "      <td>0</td>\n",
       "      <td>0.00</td>\n",
       "      <td>0.00</td>\n",
       "      <td>0,00%</td>\n",
       "      <td>0,00%</td>\n",
       "      <td>5.04</td>\n",
       "      <td>4.030992</td>\n",
       "      <td>4.08</td>\n",
       "      <td>8.06</td>\n",
       "    </tr>\n",
       "    <tr>\n",
       "      <th>45</th>\n",
       "      <td>CPFF11</td>\n",
       "      <td>Títulos e Val. Mob.</td>\n",
       "      <td>83.14</td>\n",
       "      <td>2,53%</td>\n",
       "      <td>4,02%</td>\n",
       "      <td>1.00</td>\n",
       "      <td>330379000</td>\n",
       "      <td>1336260</td>\n",
       "      <td>0</td>\n",
       "      <td>0.00</td>\n",
       "      <td>0.00</td>\n",
       "      <td>0,00%</td>\n",
       "      <td>0,00%</td>\n",
       "      <td>4.02</td>\n",
       "      <td>3.342228</td>\n",
       "      <td>4.08</td>\n",
       "      <td>8.06</td>\n",
       "    </tr>\n",
       "    <tr>\n",
       "      <th>47</th>\n",
       "      <td>CRFF11</td>\n",
       "      <td>Títulos e Val. Mob.</td>\n",
       "      <td>73.54</td>\n",
       "      <td>4,19%</td>\n",
       "      <td>4,50%</td>\n",
       "      <td>0.80</td>\n",
       "      <td>50745500</td>\n",
       "      <td>72556</td>\n",
       "      <td>0</td>\n",
       "      <td>0.00</td>\n",
       "      <td>0.00</td>\n",
       "      <td>0,00%</td>\n",
       "      <td>0,00%</td>\n",
       "      <td>4.50</td>\n",
       "      <td>3.309300</td>\n",
       "      <td>4.08</td>\n",
       "      <td>8.06</td>\n",
       "    </tr>\n",
       "    <tr>\n",
       "      <th>70</th>\n",
       "      <td>FFCI11</td>\n",
       "      <td>Lajes Corporativas</td>\n",
       "      <td>182.03</td>\n",
       "      <td>3,65%</td>\n",
       "      <td>0,00%</td>\n",
       "      <td>0.93</td>\n",
       "      <td>671817000</td>\n",
       "      <td>0</td>\n",
       "      <td>10</td>\n",
       "      <td>14522.70</td>\n",
       "      <td>700.80</td>\n",
       "      <td>4,83%</td>\n",
       "      <td>7,34%</td>\n",
       "      <td>0.00</td>\n",
       "      <td>0.000000</td>\n",
       "      <td>4.08</td>\n",
       "      <td>8.06</td>\n",
       "    </tr>\n",
       "    <tr>\n",
       "      <th>79</th>\n",
       "      <td>FMOF11</td>\n",
       "      <td>Lajes Corporativas</td>\n",
       "      <td>70.01</td>\n",
       "      <td>1,45%</td>\n",
       "      <td>1,53%</td>\n",
       "      <td>0.53</td>\n",
       "      <td>35565600</td>\n",
       "      <td>2815</td>\n",
       "      <td>2</td>\n",
       "      <td>2106.94</td>\n",
       "      <td>174.95</td>\n",
       "      <td>8,30%</td>\n",
       "      <td>39,48%</td>\n",
       "      <td>1.53</td>\n",
       "      <td>1.071153</td>\n",
       "      <td>4.08</td>\n",
       "      <td>8.06</td>\n",
       "    </tr>\n",
       "    <tr>\n",
       "      <th>87</th>\n",
       "      <td>GCFF11</td>\n",
       "      <td>Títulos e Val. Mob.</td>\n",
       "      <td>97.20</td>\n",
       "      <td>1,13%</td>\n",
       "      <td>4,64%</td>\n",
       "      <td>1.01</td>\n",
       "      <td>32911700</td>\n",
       "      <td>79976</td>\n",
       "      <td>0</td>\n",
       "      <td>0.00</td>\n",
       "      <td>0.00</td>\n",
       "      <td>0,00%</td>\n",
       "      <td>0,00%</td>\n",
       "      <td>4.64</td>\n",
       "      <td>4.510080</td>\n",
       "      <td>4.08</td>\n",
       "      <td>8.06</td>\n",
       "    </tr>\n",
       "    <tr>\n",
       "      <th>100</th>\n",
       "      <td>HFOF11</td>\n",
       "      <td>Títulos e Val. Mob.</td>\n",
       "      <td>97.91</td>\n",
       "      <td>6,32%</td>\n",
       "      <td>4,93%</td>\n",
       "      <td>1.02</td>\n",
       "      <td>2109670000</td>\n",
       "      <td>3428760</td>\n",
       "      <td>0</td>\n",
       "      <td>0.00</td>\n",
       "      <td>0.00</td>\n",
       "      <td>0,00%</td>\n",
       "      <td>0,00%</td>\n",
       "      <td>4.93</td>\n",
       "      <td>4.826963</td>\n",
       "      <td>4.08</td>\n",
       "      <td>8.06</td>\n",
       "    </tr>\n",
       "    <tr>\n",
       "      <th>103</th>\n",
       "      <td>HGFF11</td>\n",
       "      <td>Títulos e Val. Mob.</td>\n",
       "      <td>83.48</td>\n",
       "      <td>4,68%</td>\n",
       "      <td>5,51%</td>\n",
       "      <td>0.86</td>\n",
       "      <td>239053000</td>\n",
       "      <td>688840</td>\n",
       "      <td>0</td>\n",
       "      <td>0.00</td>\n",
       "      <td>0.00</td>\n",
       "      <td>0,00%</td>\n",
       "      <td>0,00%</td>\n",
       "      <td>5.51</td>\n",
       "      <td>4.599748</td>\n",
       "      <td>4.08</td>\n",
       "      <td>8.06</td>\n",
       "    </tr>\n",
       "    <tr>\n",
       "      <th>122</th>\n",
       "      <td>IBFF11</td>\n",
       "      <td>Títulos e Val. Mob.</td>\n",
       "      <td>68.90</td>\n",
       "      <td>4,05%</td>\n",
       "      <td>4,86%</td>\n",
       "      <td>0.80</td>\n",
       "      <td>45934300</td>\n",
       "      <td>193579</td>\n",
       "      <td>0</td>\n",
       "      <td>0.00</td>\n",
       "      <td>0.00</td>\n",
       "      <td>0,00%</td>\n",
       "      <td>0,00%</td>\n",
       "      <td>4.86</td>\n",
       "      <td>3.348540</td>\n",
       "      <td>4.08</td>\n",
       "      <td>8.06</td>\n",
       "    </tr>\n",
       "    <tr>\n",
       "      <th>132</th>\n",
       "      <td>KFOF11</td>\n",
       "      <td>Títulos e Val. Mob.</td>\n",
       "      <td>91.47</td>\n",
       "      <td>3,91%</td>\n",
       "      <td>4,52%</td>\n",
       "      <td>0.87</td>\n",
       "      <td>414662000</td>\n",
       "      <td>585713</td>\n",
       "      <td>0</td>\n",
       "      <td>0.00</td>\n",
       "      <td>0.00</td>\n",
       "      <td>0,00%</td>\n",
       "      <td>0,00%</td>\n",
       "      <td>4.52</td>\n",
       "      <td>4.134444</td>\n",
       "      <td>4.08</td>\n",
       "      <td>8.06</td>\n",
       "    </tr>\n",
       "    <tr>\n",
       "      <th>145</th>\n",
       "      <td>LOFT11B</td>\n",
       "      <td>Residencial</td>\n",
       "      <td>29.90</td>\n",
       "      <td>-30,48%</td>\n",
       "      <td>46,49%</td>\n",
       "      <td>0.38</td>\n",
       "      <td>68980300</td>\n",
       "      <td>0</td>\n",
       "      <td>154</td>\n",
       "      <td>3959.68</td>\n",
       "      <td>26.51</td>\n",
       "      <td>0,67%</td>\n",
       "      <td>0,00%</td>\n",
       "      <td>46.49</td>\n",
       "      <td>13.900510</td>\n",
       "      <td>4.08</td>\n",
       "      <td>8.06</td>\n",
       "    </tr>\n",
       "    <tr>\n",
       "      <th>155</th>\n",
       "      <td>MGFF11</td>\n",
       "      <td>Títulos e Val. Mob.</td>\n",
       "      <td>82.47</td>\n",
       "      <td>4,04%</td>\n",
       "      <td>5,09%</td>\n",
       "      <td>0.98</td>\n",
       "      <td>746405000</td>\n",
       "      <td>1775420</td>\n",
       "      <td>0</td>\n",
       "      <td>0.00</td>\n",
       "      <td>0.00</td>\n",
       "      <td>0,00%</td>\n",
       "      <td>0,00%</td>\n",
       "      <td>5.09</td>\n",
       "      <td>4.197723</td>\n",
       "      <td>4.08</td>\n",
       "      <td>8.06</td>\n",
       "    </tr>\n",
       "    <tr>\n",
       "      <th>169</th>\n",
       "      <td>OUFF11</td>\n",
       "      <td>Títulos e Val. Mob.</td>\n",
       "      <td>84.16</td>\n",
       "      <td>4,14%</td>\n",
       "      <td>5,44%</td>\n",
       "      <td>0.94</td>\n",
       "      <td>152695000</td>\n",
       "      <td>281996</td>\n",
       "      <td>0</td>\n",
       "      <td>0.00</td>\n",
       "      <td>0.00</td>\n",
       "      <td>0,00%</td>\n",
       "      <td>0,00%</td>\n",
       "      <td>5.44</td>\n",
       "      <td>4.578304</td>\n",
       "      <td>4.08</td>\n",
       "      <td>8.06</td>\n",
       "    </tr>\n",
       "    <tr>\n",
       "      <th>187</th>\n",
       "      <td>QIFF11</td>\n",
       "      <td>Títulos e Val. Mob.</td>\n",
       "      <td>103.99</td>\n",
       "      <td>2,83%</td>\n",
       "      <td>0,00%</td>\n",
       "      <td>1.05</td>\n",
       "      <td>15598500</td>\n",
       "      <td>33746</td>\n",
       "      <td>0</td>\n",
       "      <td>0.00</td>\n",
       "      <td>0.00</td>\n",
       "      <td>0,00%</td>\n",
       "      <td>0,00%</td>\n",
       "      <td>0.00</td>\n",
       "      <td>0.000000</td>\n",
       "      <td>4.08</td>\n",
       "      <td>8.06</td>\n",
       "    </tr>\n",
       "    <tr>\n",
       "      <th>188</th>\n",
       "      <td>QMFF11</td>\n",
       "      <td>Títulos e Val. Mob.</td>\n",
       "      <td>98.52</td>\n",
       "      <td>2,99%</td>\n",
       "      <td>3,90%</td>\n",
       "      <td>1.00</td>\n",
       "      <td>14778000</td>\n",
       "      <td>0</td>\n",
       "      <td>0</td>\n",
       "      <td>0.00</td>\n",
       "      <td>0.00</td>\n",
       "      <td>0,00%</td>\n",
       "      <td>0,00%</td>\n",
       "      <td>3.90</td>\n",
       "      <td>3.842280</td>\n",
       "      <td>4.08</td>\n",
       "      <td>8.06</td>\n",
       "    </tr>\n",
       "    <tr>\n",
       "      <th>193</th>\n",
       "      <td>RBFF11</td>\n",
       "      <td>Títulos e Val. Mob.</td>\n",
       "      <td>67.92</td>\n",
       "      <td>3,45%</td>\n",
       "      <td>5,95%</td>\n",
       "      <td>0.93</td>\n",
       "      <td>254488000</td>\n",
       "      <td>696164</td>\n",
       "      <td>0</td>\n",
       "      <td>0.00</td>\n",
       "      <td>0.00</td>\n",
       "      <td>0,00%</td>\n",
       "      <td>0,00%</td>\n",
       "      <td>5.95</td>\n",
       "      <td>4.041240</td>\n",
       "      <td>4.08</td>\n",
       "      <td>8.06</td>\n",
       "    </tr>\n",
       "    <tr>\n",
       "      <th>208</th>\n",
       "      <td>RCFF11</td>\n",
       "      <td>Títulos e Val. Mob.</td>\n",
       "      <td>92.53</td>\n",
       "      <td>1,86%</td>\n",
       "      <td>5,30%</td>\n",
       "      <td>0.93</td>\n",
       "      <td>29905500</td>\n",
       "      <td>12935</td>\n",
       "      <td>0</td>\n",
       "      <td>0.00</td>\n",
       "      <td>0.00</td>\n",
       "      <td>0,00%</td>\n",
       "      <td>0,00%</td>\n",
       "      <td>5.30</td>\n",
       "      <td>4.904090</td>\n",
       "      <td>4.08</td>\n",
       "      <td>8.06</td>\n",
       "    </tr>\n",
       "    <tr>\n",
       "      <th>218</th>\n",
       "      <td>RFOF11</td>\n",
       "      <td>Títulos e Val. Mob.</td>\n",
       "      <td>83.91</td>\n",
       "      <td>4,84%</td>\n",
       "      <td>4,63%</td>\n",
       "      <td>0.90</td>\n",
       "      <td>90468700</td>\n",
       "      <td>289108</td>\n",
       "      <td>0</td>\n",
       "      <td>0.00</td>\n",
       "      <td>0.00</td>\n",
       "      <td>0,00%</td>\n",
       "      <td>0,00%</td>\n",
       "      <td>4.63</td>\n",
       "      <td>3.885033</td>\n",
       "      <td>4.08</td>\n",
       "      <td>8.06</td>\n",
       "    </tr>\n",
       "    <tr>\n",
       "      <th>238</th>\n",
       "      <td>TBOF11</td>\n",
       "      <td>Lajes Corporativas</td>\n",
       "      <td>101.50</td>\n",
       "      <td>-0,08%</td>\n",
       "      <td>0,08%</td>\n",
       "      <td>656.11</td>\n",
       "      <td>1020080000</td>\n",
       "      <td>0</td>\n",
       "      <td>0</td>\n",
       "      <td>0.00</td>\n",
       "      <td>0.00</td>\n",
       "      <td>0,00%</td>\n",
       "      <td>0,00%</td>\n",
       "      <td>0.08</td>\n",
       "      <td>0.081200</td>\n",
       "      <td>4.08</td>\n",
       "      <td>8.06</td>\n",
       "    </tr>\n",
       "  </tbody>\n",
       "</table>\n",
       "</div>"
      ],
      "text/plain": [
       "       Papel             Segmento  Cotação FFO Yield Dividend Yield    P/VP  \\\n",
       "4     AFOF11  Títulos e Val. Mob.   182.16     2,20%          0,00%    1.69   \n",
       "19    BCFF11  Títulos e Val. Mob.    85.38     2,93%          4,16%    1.01   \n",
       "29    BPFF11               Outros    79.98     5,03%          5,04%    0.95   \n",
       "45    CPFF11  Títulos e Val. Mob.    83.14     2,53%          4,02%    1.00   \n",
       "47    CRFF11  Títulos e Val. Mob.    73.54     4,19%          4,50%    0.80   \n",
       "70    FFCI11   Lajes Corporativas   182.03     3,65%          0,00%    0.93   \n",
       "79    FMOF11   Lajes Corporativas    70.01     1,45%          1,53%    0.53   \n",
       "87    GCFF11  Títulos e Val. Mob.    97.20     1,13%          4,64%    1.01   \n",
       "100   HFOF11  Títulos e Val. Mob.    97.91     6,32%          4,93%    1.02   \n",
       "103   HGFF11  Títulos e Val. Mob.    83.48     4,68%          5,51%    0.86   \n",
       "122   IBFF11  Títulos e Val. Mob.    68.90     4,05%          4,86%    0.80   \n",
       "132   KFOF11  Títulos e Val. Mob.    91.47     3,91%          4,52%    0.87   \n",
       "145  LOFT11B          Residencial    29.90   -30,48%         46,49%    0.38   \n",
       "155   MGFF11  Títulos e Val. Mob.    82.47     4,04%          5,09%    0.98   \n",
       "169   OUFF11  Títulos e Val. Mob.    84.16     4,14%          5,44%    0.94   \n",
       "187   QIFF11  Títulos e Val. Mob.   103.99     2,83%          0,00%    1.05   \n",
       "188   QMFF11  Títulos e Val. Mob.    98.52     2,99%          3,90%    1.00   \n",
       "193   RBFF11  Títulos e Val. Mob.    67.92     3,45%          5,95%    0.93   \n",
       "208   RCFF11  Títulos e Val. Mob.    92.53     1,86%          5,30%    0.93   \n",
       "218   RFOF11  Títulos e Val. Mob.    83.91     4,84%          4,63%    0.90   \n",
       "238   TBOF11   Lajes Corporativas   101.50    -0,08%          0,08%  656.11   \n",
       "\n",
       "     Valor de Mercado  Liquidez  Qtd de imóveis  Preço do m2  Aluguel por m2  \\\n",
       "4            66875300      6731               0         0.00            0.00   \n",
       "19         2153160000   4354060               0         0.00            0.00   \n",
       "29          359296000   1055790               0         0.00            0.00   \n",
       "45          330379000   1336260               0         0.00            0.00   \n",
       "47           50745500     72556               0         0.00            0.00   \n",
       "70          671817000         0              10     14522.70          700.80   \n",
       "79           35565600      2815               2      2106.94          174.95   \n",
       "87           32911700     79976               0         0.00            0.00   \n",
       "100        2109670000   3428760               0         0.00            0.00   \n",
       "103         239053000    688840               0         0.00            0.00   \n",
       "122          45934300    193579               0         0.00            0.00   \n",
       "132         414662000    585713               0         0.00            0.00   \n",
       "145          68980300         0             154      3959.68           26.51   \n",
       "155         746405000   1775420               0         0.00            0.00   \n",
       "169         152695000    281996               0         0.00            0.00   \n",
       "187          15598500     33746               0         0.00            0.00   \n",
       "188          14778000         0               0         0.00            0.00   \n",
       "193         254488000    696164               0         0.00            0.00   \n",
       "208          29905500     12935               0         0.00            0.00   \n",
       "218          90468700    289108               0         0.00            0.00   \n",
       "238        1020080000         0               0         0.00            0.00   \n",
       "\n",
       "    Cap Rate Vacância Média  Dividend yield 2  Dividendo/cota  NTN-B  IPCA  \n",
       "4      0,00%          0,00%              0.00        0.000000   4.08  8.06  \n",
       "19     0,00%          0,00%              4.16        3.551808   4.08  8.06  \n",
       "29     0,00%          0,00%              5.04        4.030992   4.08  8.06  \n",
       "45     0,00%          0,00%              4.02        3.342228   4.08  8.06  \n",
       "47     0,00%          0,00%              4.50        3.309300   4.08  8.06  \n",
       "70     4,83%          7,34%              0.00        0.000000   4.08  8.06  \n",
       "79     8,30%         39,48%              1.53        1.071153   4.08  8.06  \n",
       "87     0,00%          0,00%              4.64        4.510080   4.08  8.06  \n",
       "100    0,00%          0,00%              4.93        4.826963   4.08  8.06  \n",
       "103    0,00%          0,00%              5.51        4.599748   4.08  8.06  \n",
       "122    0,00%          0,00%              4.86        3.348540   4.08  8.06  \n",
       "132    0,00%          0,00%              4.52        4.134444   4.08  8.06  \n",
       "145    0,67%          0,00%             46.49       13.900510   4.08  8.06  \n",
       "155    0,00%          0,00%              5.09        4.197723   4.08  8.06  \n",
       "169    0,00%          0,00%              5.44        4.578304   4.08  8.06  \n",
       "187    0,00%          0,00%              0.00        0.000000   4.08  8.06  \n",
       "188    0,00%          0,00%              3.90        3.842280   4.08  8.06  \n",
       "193    0,00%          0,00%              5.95        4.041240   4.08  8.06  \n",
       "208    0,00%          0,00%              5.30        4.904090   4.08  8.06  \n",
       "218    0,00%          0,00%              4.63        3.885033   4.08  8.06  \n",
       "238    0,00%          0,00%              0.08        0.081200   4.08  8.06  "
      ]
     },
     "execution_count": 33,
     "metadata": {},
     "output_type": "execute_result"
    }
   ],
   "source": [
    "fundos.loc[(fundos['Papel'].str.contains('OF')) | (fundos['Papel'].str.contains('FF'))]"
   ]
  },
  {
   "cell_type": "code",
   "execution_count": 40,
   "metadata": {
    "ExecuteTime": {
     "end_time": "2021-06-13T21:32:04.499082Z",
     "start_time": "2021-06-13T21:32:04.483465Z"
    }
   },
   "outputs": [],
   "source": [
    "def modelo_gordon(fiis,spread_mercado, segmento):\n",
    "    # filtro para zerar o IPCA de todos os FIIs que não sao de CRI\n",
    "    fiis.loc[~(fiis['Segmento']=='Títulos e Val. Mob.')|\n",
    "            (fiis['Papel'].str.contains('OF')) |\n",
    "            (fiis['Papel'].str.contains('FF')) ,'IPCA'] = 0\n",
    "    fiis['SPREAD'] = spread_mercado\n",
    "    fiis['WACC'] = (fiis['NTN-B'] + fiis['IPCA'] + fiis['SPREAD'])/100\n",
    "    fiis['ValorJusto'] = round(fiis['Dividendo/cota'] / fiis['WACC'],2)\n",
    "    fiis['Sinal'] = 'Acima valor justo'\n",
    "    fiis.loc[(fiis['ValorJusto']-fiis['Cotação']) >= 0 ,'Sinal'] = 'Abaixo valor justo'\n",
    "    a = fiis[['Papel','Segmento','Cotação','ValorJusto','IPCA','Sinal']]\n",
    "    a = a.loc[(a['Sinal'] == 'Abaixo valor justo') & (a['Segmento'] == segmento)]\n",
    "    print(a)"
   ]
  },
  {
   "cell_type": "code",
   "execution_count": 41,
   "metadata": {
    "ExecuteTime": {
     "end_time": "2021-06-13T21:32:04.948732Z",
     "start_time": "2021-06-13T21:32:04.886242Z"
    }
   },
   "outputs": [
    {
     "data": {
      "application/vnd.jupyter.widget-view+json": {
       "model_id": "a9a5069a5ee34c23b4c7d64dbaad4e5b",
       "version_major": 2,
       "version_minor": 0
      },
      "text/plain": [
       "interactive(children=(FloatSlider(value=2.0, continuous_update=False, description='SpreadMercado:', max=2.5, r…"
      ]
     },
     "metadata": {},
     "output_type": "display_data"
    }
   ],
   "source": [
    "# Slider do spread mercado\n",
    "valor_segmento = widgets.Dropdown(options = fundos['Segmento'].unique(),\n",
    "        value = fundos['Segmento'].iat[0],description = 'Segmento:', disable = False)\n",
    "\n",
    "valor_spread = widgets.FloatSlider(value=2,min=0,max=2.5,step=0.1,description='SpreadMercado:',\n",
    "    disabled=False,continuous_update=False,orientation='horizontal',readout=True,readout_format='.1f')\n",
    "        \n",
    "# WIDGET CREATED      \n",
    "widgets.interactive(modelo_gordon,fiis = fixed(fundos),spread_mercado = valor_spread,segmento = valor_segmento)"
   ]
  },
  {
   "cell_type": "code",
   "execution_count": null,
   "metadata": {},
   "outputs": [],
   "source": []
  },
  {
   "cell_type": "code",
   "execution_count": null,
   "metadata": {},
   "outputs": [],
   "source": []
  },
  {
   "cell_type": "code",
   "execution_count": null,
   "metadata": {},
   "outputs": [],
   "source": []
  }
 ],
 "metadata": {
  "kernelspec": {
   "display_name": "Python 3",
   "language": "python",
   "name": "python3"
  },
  "language_info": {
   "codemirror_mode": {
    "name": "ipython",
    "version": 3
   },
   "file_extension": ".py",
   "mimetype": "text/x-python",
   "name": "python",
   "nbconvert_exporter": "python",
   "pygments_lexer": "ipython3",
   "version": "3.9.10"
  },
  "varInspector": {
   "cols": {
    "lenName": 16,
    "lenType": 16,
    "lenVar": 40
   },
   "kernels_config": {
    "python": {
     "delete_cmd_postfix": "",
     "delete_cmd_prefix": "del ",
     "library": "var_list.py",
     "varRefreshCmd": "print(var_dic_list())"
    },
    "r": {
     "delete_cmd_postfix": ") ",
     "delete_cmd_prefix": "rm(",
     "library": "var_list.r",
     "varRefreshCmd": "cat(var_dic_list()) "
    }
   },
   "types_to_exclude": [
    "module",
    "function",
    "builtin_function_or_method",
    "instance",
    "_Feature"
   ],
   "window_display": false
  }
 },
 "nbformat": 4,
 "nbformat_minor": 4
}
